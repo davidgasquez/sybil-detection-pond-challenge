{
 "cells": [
  {
   "cell_type": "code",
   "execution_count": 1,
   "metadata": {},
   "outputs": [],
   "source": [
    "%reload_ext autoreload\n",
    "%autoreload 2\n",
    "\n",
    "import warnings\n",
    "\n",
    "import polars as pl\n",
    "\n",
    "warnings.filterwarnings(\"ignore\")\n",
    "warnings.filterwarnings(\"ignore\", category=FutureWarning)\n",
    "\n",
    "_ = pl.Config.set_tbl_rows(10)\n",
    "_ = pl.Config.set_tbl_cols(20)"
   ]
  },
  {
   "cell_type": "code",
   "execution_count": 2,
   "metadata": {},
   "outputs": [],
   "source": [
    "from sdpc.data import joined_train_df, test_data_df\n",
    "\n",
    "train_df = joined_train_df()\n",
    "test_df_original = test_data_df()\n",
    "features_df = pl.read_parquet(\"../data/processed/features_df_graph_jorge.parquet\")\n",
    "\n",
    "train_df = train_df.join(features_df.drop(\"label\"), on=\"address\", how=\"left\")\n",
    "test_df = test_df_original.join(features_df, on=\"address\", how=\"left\")"
   ]
  },
  {
   "cell_type": "code",
   "execution_count": 3,
   "metadata": {},
   "outputs": [
    {
     "name": "stdout",
     "output_type": "stream",
     "text": [
      "Train set shape: (99067, 250)\n"
     ]
    }
   ],
   "source": [
    "print(f\"Train set shape: {train_df.shape}\")"
   ]
  },
  {
   "cell_type": "markdown",
   "metadata": {},
   "source": [
    "### Train Cleaning"
   ]
  },
  {
   "cell_type": "code",
   "execution_count": 4,
   "metadata": {},
   "outputs": [
    {
     "name": "stdout",
     "output_type": "stream",
     "text": [
      "Train set shape: (99067, 250)\n",
      "Removing 6294 contracts\n",
      "Removing 10912 cex addresses\n"
     ]
    }
   ],
   "source": [
    "print(f\"Train set shape: {train_df.shape}\")\n",
    "\n",
    "# Remove contracts\n",
    "print(f\"Removing {train_df.filter(pl.col('flipside_is_contract')).shape[0]} contracts\")\n",
    "train_df = train_df.filter(pl.col(\"flipside_is_contract\") == False)  # noqa: E712\n",
    "\n",
    "# # Remove CEX addresses\n",
    "print(\n",
    "    f\"Removing {train_df.filter(pl.col('flipside_label_type') == 'cex').shape[0]} cex addresses\"\n",
    ")\n",
    "train_df = train_df.filter(\n",
    "    (pl.col(\"flipside_label_type\") != \"cex\") | (pl.col(\"flipside_label_type\").is_null())\n",
    ")"
   ]
  },
  {
   "cell_type": "code",
   "execution_count": 5,
   "metadata": {},
   "outputs": [
    {
     "name": "stdout",
     "output_type": "stream",
     "text": [
      "['address', 'split', 'flipside_address_name', 'flipside_label_type', 'flipside_label', 'most_common_platform', 'most_common_symbol', 'most_common_symbol_token_transfers_to_all']\n"
     ]
    }
   ],
   "source": [
    "# STRING\n",
    "\n",
    "# Drop columns with string (Utf8) dtype from train_df\n",
    "str_cols = [col for col, dtype in zip(train_df.columns, train_df.dtypes) if dtype == pl.Utf8]\n",
    "train_df = train_df.drop(str_cols)\n",
    "test_df = test_df.drop(str_cols)\n",
    "print(str_cols)"
   ]
  },
  {
   "cell_type": "code",
   "execution_count": 6,
   "metadata": {},
   "outputs": [],
   "source": [
    "# DATETIME\n",
    "\n",
    "# drop columns that are datetime\n",
    "\n",
    "datetime_cols = [col for col, dtype in zip(train_df.columns, train_df.dtypes) if dtype == pl.Datetime]\n",
    "train_df = train_df.drop(datetime_cols)\n",
    "test_df = test_df.drop(datetime_cols)"
   ]
  },
  {
   "cell_type": "code",
   "execution_count": 7,
   "metadata": {},
   "outputs": [
    {
     "name": "stdout",
     "output_type": "stream",
     "text": [
      "Train set shape: (81861, 157)\n",
      "Test set shape: (20369, 157)\n"
     ]
    }
   ],
   "source": [
    "import polars.selectors as cs\n",
    "\n",
    "common_drop_cols = [\n",
    "    #\"address\",\n",
    "    #\"split\",\n",
    "    \"label\",\n",
    "] + [\n",
    "    cs.starts_with(\"n2v_\")  # Embeddings\n",
    "]\n",
    "\n",
    "X_train = train_df.drop(common_drop_cols)\n",
    "y_train = train_df[\"label\"].cast(float)\n",
    "\n",
    "X_test = test_df.drop(common_drop_cols)\n",
    "\n",
    "print(f\"Train set shape: {X_train.shape}\")\n",
    "print(f\"Test set shape: {X_test.shape}\")"
   ]
  },
  {
   "cell_type": "markdown",
   "metadata": {},
   "source": [
    "# Model"
   ]
  },
  {
   "cell_type": "code",
   "execution_count": 8,
   "metadata": {},
   "outputs": [],
   "source": [
    "from sklearn.ensemble import RandomForestClassifier\n",
    "from sklearn.model_selection import cross_val_score\n",
    "from sklearn.metrics import classification_report, roc_auc_score\n",
    "from sklearn.impute import SimpleImputer\n",
    "import numpy as np\n",
    "from imblearn.under_sampling import NearMiss, TomekLinks\n",
    "from sklearn.model_selection import StratifiedKFold\n",
    "\n",
    "# Split train_df into features (X) and target (y)\n",
    "#X_original = X_train.drop(\"label\")  # Drop the target column\n",
    "#y_original = y_train[\"label\"].cast(float)\n",
    "\n",
    "# Convert to pandas for imblearn compatibility\n",
    "X_pd = X_train.to_pandas()\n",
    "y_np = y_train.to_pandas()\n",
    "test_df_pd = X_test.to_pandas()\n",
    "\n",
    "# Ensure all columns are numeric\n",
    "X_pd = X_pd.fillna(-1)\n",
    "test_df_pd = test_df_pd.fillna(-1)"
   ]
  },
  {
   "cell_type": "code",
   "execution_count": null,
   "metadata": {},
   "outputs": [
    {
     "name": "stdout",
     "output_type": "stream",
     "text": [
      "OOB Score: 0.9965\n",
      "Cross-Validation AUC Scores: [0.99974525 0.99988978 0.99995552 0.99982597 1.        ]\n",
      "Mean CV AUC Score: 0.9999\n",
      "\n",
      "Feature Importances:\n",
      "native_tx_flow_ratio: 0.0959\n",
      "unique_communities: 0.0494\n",
      "avg_gas_price_to_all: 0.0494\n",
      "min_value_to_all: 0.0468\n",
      "unique_tx_hashes_to_all: 0.0438\n",
      "avg_value_to_all: 0.0405\n",
      "total_gas_price_to_all: 0.0391\n",
      "total_gas_limit_to_all: 0.0373\n",
      "total_value_to_all: 0.0345\n",
      "max_value_to_all: 0.0342\n",
      "total_tx_fee_to_all: 0.0341\n",
      "num_transactions_from_sybil: 0.0340\n",
      "unique_networks_to_all: 0.0338\n",
      "unique_block_numbers_to_all: 0.0316\n",
      "avg_tx_fee_to_all: 0.0309\n",
      "flipside_is_contract_count: 0.0280\n",
      "address_name_count: 0.0280\n",
      "first_tx_from_value: 0.0278\n",
      "total_gas_used_to_all: 0.0278\n",
      "avg_native_eth_in_value: 0.0249\n",
      "unique_from_addresses: 0.0228\n",
      "num_unique_from_sybil_addresses: 0.0124\n",
      "unique_tx_hashes_ethereum_to_network: 0.0117\n",
      "unique_from_addresses_ethereum: 0.0088\n",
      "avg_gas_price_ethereum_to_network: 0.0088\n",
      "total_gas_price_ethereum_to_network: 0.0088\n",
      "max_value_ethereum_to_network: 0.0088\n",
      "avg_value_ethereum_to_network: 0.0088\n",
      "max_value_ethereum: 0.0064\n",
      "avg_tx_fee_ethereum_to_network: 0.0059\n",
      "unique_networks_ethereum_to_network: 0.0059\n",
      "total_gas_limit_ethereum_to_network: 0.0058\n",
      "min_value_ethereum_to_network: 0.0058\n",
      "total_tx_fee_ethereum_to_network: 0.0058\n",
      "total_value_ethereum_to_network: 0.0058\n",
      "days_since_first_interaction: 0.0058\n",
      "unique_to_addresses_ethereum: 0.0040\n",
      "proportion_base_native_tx_out: 0.0035\n",
      "null_count: 0.0035\n",
      "avg_native_eth_out_value: 0.0033\n",
      "total_value: 0.0031\n",
      "unique_networks_ethereum: 0.0030\n",
      "unique_block_numbers_ethereum_to_network: 0.0029\n",
      "total_gas_used_ethereum_to_network: 0.0029\n",
      "unique_networks: 0.0022\n",
      "total_gas_used: 0.0021\n",
      "tx_per_day: 0.0018\n",
      "total_gas_limit: 0.0016\n",
      "interaction_duration: 0.0016\n",
      "avg_tx_fee_base: 0.0016\n",
      "unique_block_numbers: 0.0016\n",
      "unique_tx_hashes: 0.0016\n",
      "total_tx_fee_base: 0.0015\n",
      "avg_amount_in_usd: 0.0015\n",
      "avg_gas_price_ethereum: 0.0013\n",
      "total_tx_fee: 0.0013\n",
      "total_amount_usd_token_transfers_to_all: 0.0012\n",
      "avg_gas_price: 0.0012\n",
      "unique_to_addresses: 0.0012\n",
      "avg_gas_price_base: 0.0011\n",
      "total_gas_price_base: 0.0010\n",
      "avg_value_ethereum: 0.0010\n",
      "avg_tx_fee: 0.0009\n",
      "total_gas_price_ethereum: 0.0009\n",
      "total_tx_fee_ethereum: 0.0009\n",
      "total_gas_used_ethereum: 0.0009\n",
      "unique_symbols_token_transfers_to_all: 0.0009\n",
      "unique_tx_hashes_token_transfers_to_all: 0.0009\n",
      "total_gas_used_base: 0.0009\n",
      "total_gas_limit_base: 0.0008\n",
      "unique_contract_addresses_token_transfers_to_all: 0.0008\n",
      "unique_from_addresses_token_transfers_to_all: 0.0008\n",
      "min_value: 0.0008\n",
      "days_since_last_interaction: 0.0008\n",
      "total_gas_price: 0.0007\n",
      "min_value_ethereum: 0.0007\n",
      "max_value_base: 0.0007\n",
      "max_value: 0.0007\n",
      "avg_tx_fee_ethereum: 0.0007\n",
      "avg_value: 0.0007\n",
      "total_value_ethereum: 0.0007\n",
      "recipient_diversity_native_out: 0.0007\n",
      "min_value_base: 0.0007\n",
      "avg_value_base: 0.0007\n",
      "unique_networks_token_transfers_to_all: 0.0007\n",
      "first_tx_to_value: 0.0007\n",
      "total_gas_limit_ethereum: 0.0007\n",
      "fee_to_value_ratio_native_out: 0.0006\n",
      "unique_contract_addresses: 0.0006\n",
      "community: 0.0006\n",
      "community_size: 0.0006\n",
      "pagerank: 0.0006\n",
      "unique_origin_to_addresses: 0.0006\n",
      "total_value_base: 0.0006\n",
      "total_amount_in_usd: 0.0006\n",
      "avg_community_size_dex_from_all: 0.0005\n",
      "unique_pool_names: 0.0005\n",
      "min_amount_in_usd: 0.0005\n",
      "total_amount_out_usd: 0.0005\n",
      "degree_centrality: 0.0005\n",
      "max_amount_in_usd: 0.0005\n",
      "avg_community_size_to: 0.0005\n",
      "unique_tx_hashes_base: 0.0005\n",
      "unique_block_numbers_ethereum: 0.0005\n",
      "unique_tx_hashes_dex_from_all: 0.0005\n",
      "unique_contract_addresses_token_transfers_from_all: 0.0004\n",
      "unique_block_numbers_base: 0.0004\n",
      "unique_platforms: 0.0004\n",
      "min_amount_usd: 0.0004\n",
      "degree: 0.0004\n",
      "total_gas_limit_base_to_network: 0.0004\n",
      "unique_networks_token_transfers_from_all: 0.0004\n",
      "unique_to_addresses_base: 0.0003\n",
      "unique_symbols: 0.0003\n",
      "core_number: 0.0003\n",
      "total_amount_usd: 0.0003\n",
      "unique_networks_base: 0.0003\n",
      "unique_tx_hashes_ethereum: 0.0003\n",
      "unique_to_addresses_token_transfers_from_all: 0.0003\n",
      "avg_amount_usd_token_transfers_to_all: 0.0003\n",
      "avg_token_transfer_out_usd_value: 0.0003\n",
      "avg_amount_usd: 0.0003\n",
      "unique_tx_hashes_token_transfers_from_all: 0.0003\n",
      "max_amount_usd: 0.0003\n",
      "unique_communities_dex_from_all: 0.0002\n",
      "max_amount_usd_token_transfers_to_all: 0.0002\n",
      "avg_dex_swap_in_usd_value: 0.0002\n",
      "min_amount_usd_token_transfers_to_all: 0.0002\n",
      "avg_gas_price_base_to_network: 0.0002\n",
      "avg_value_base_to_network: 0.0002\n",
      "total_gas_used_base_to_network: 0.0002\n",
      "min_amount_out_usd: 0.0001\n",
      "num_unique_to_sybil_addresses: 0.0001\n",
      "max_amount_out_usd: 0.0001\n",
      "unique_tx_hashes_base_to_network: 0.0001\n",
      "avg_amount_out_usd: 0.0001\n",
      "address_name_count_to: 0.0000\n",
      "clustering_coefficient: 0.0000\n",
      "flipside_is_contract_count_to: 0.0000\n",
      "num_transactions_to_sybil: 0.0000\n",
      "max_value_base_to_network: 0.0000\n",
      "flipside_is_contract_creator: 0.0000\n",
      "unique_networks_base_to_network: 0.0000\n",
      "unique_communities_to: 0.0000\n",
      "avg_flipside_is_contract_to: 0.0000\n",
      "outgoing_to_sybil_tx_ratio: 0.0000\n",
      "eigenvector_centrality: 0.0000\n",
      "total_value_base_to_network: 0.0000\n",
      "avg_community_size: 0.0000\n",
      "flipside_is_contract: 0.0000\n",
      "unique_block_numbers_base_to_network: 0.0000\n",
      "total_gas_price_base_to_network: 0.0000\n",
      "min_value_base_to_network: 0.0000\n",
      "total_tx_fee_base_to_network: 0.0000\n",
      "avg_flipside_is_contract: 0.0000\n",
      "avg_tx_fee_base_to_network: 0.0000\n",
      "unique_from_addresses_base: 0.0000\n"
     ]
    }
   ],
   "source": [
    "# Apply Tomek Links cleaning before NearMiss\n",
    "tl = TomekLinks()\n",
    "X_pd, y_np = tl.fit_resample(X_pd, y_np)\n",
    "\n",
    "# Apply NearMiss under-sampling after Tomek Links\n",
    "nm = NearMiss(version=3)\n",
    "X, y = nm.fit_resample(X_pd, y_np)\n",
    "\n",
    "#X,y = X_pd, y_np\n",
    "\n",
    "# Initialize the Random Forest Classifier with OOB scoring enabled\n",
    "clf = RandomForestClassifier(\n",
    "    n_estimators=300,  # Number of trees\n",
    "    random_state=42,\n",
    "    #class_weight= \"balanced_subsample\",\n",
    "    oob_score=True,  # Enable Out-of-Bag scoring\n",
    "    n_jobs=-1  # Use all available cores\n",
    ")\n",
    "\n",
    "# Stratified K-Fold Cross-Validation\n",
    "skf = StratifiedKFold(n_splits=5, shuffle=True, random_state=42)\n",
    "cv_scores = cross_val_score(clf, X, y, cv=skf, scoring=\"roc_auc\")\n",
    "\n",
    "# Train the model on the entire training set\n",
    "clf.fit(X, y)\n",
    "\n",
    "# Print OOB score\n",
    "print(f\"OOB Score: {clf.oob_score_:.4f}\")\n",
    "\n",
    "# Print Cross-Validation scores\n",
    "print(f\"Cross-Validation AUC Scores: {cv_scores}\")\n",
    "print(f\"Mean CV AUC Score: {np.mean(cv_scores):.4f}\")\n",
    "\n",
    "# Feature importance\n",
    "feature_importances = clf.feature_importances_\n",
    "feature_names = X.columns\n",
    "sorted_indices = np.argsort(feature_importances)[::-1]\n",
    "\n",
    "print(\"\\nFeature Importances:\")\n",
    "for idx in sorted_indices:\n",
    "    print(f\"{feature_names[idx]}: {feature_importances[idx]:.4f}\")"
   ]
  },
  {
   "cell_type": "code",
   "execution_count": 10,
   "metadata": {},
   "outputs": [
    {
     "name": "stdout",
     "output_type": "stream",
     "text": [
      "ROC AUC Score: 0.9999\n",
      "              precision    recall  f1-score   support\n",
      "\n",
      "     Class 0       0.99      1.00      0.99      2543\n",
      "     Class 1       1.00      0.99      0.99      2543\n",
      "\n",
      "    accuracy                           0.99      5086\n",
      "   macro avg       0.99      0.99      0.99      5086\n",
      "weighted avg       0.99      0.99      0.99      5086\n",
      "\n"
     ]
    }
   ],
   "source": [
    "from sklearn.metrics import classification_report\n",
    "from sklearn.model_selection import cross_val_predict\n",
    "y_pred = cross_val_predict(clf, X, y, cv=skf)  # 5-fold CV predictions\n",
    "y_proba = cross_val_predict(clf, X, y, cv=skf, method='predict_proba')[:, 1]\n",
    "# Calculate ROC AUC score\n",
    "roc_auc = roc_auc_score(y, y_proba)\n",
    "print(f\"ROC AUC Score: {roc_auc:.4f}\")\n",
    "\n",
    "# Generate the classification report\n",
    "report = classification_report(y, y_pred, target_names=[\"Class 0\", \"Class 1\"])\n",
    "print(report)"
   ]
  },
  {
   "cell_type": "code",
   "execution_count": 11,
   "metadata": {},
   "outputs": [],
   "source": [
    "test_proba = clf.predict_proba(test_df_pd)[:, 1]\n",
    "test_pred = clf.predict(test_df_pd)"
   ]
  },
  {
   "cell_type": "code",
   "execution_count": 12,
   "metadata": {},
   "outputs": [
    {
     "data": {
      "text/plain": [
       "(0.5, 0.49705072748721985, 0.9899847807943444, 0.9879981016904773)"
      ]
     },
     "execution_count": 12,
     "metadata": {},
     "output_type": "execute_result"
    }
   ],
   "source": [
    "y.mean(), y_pred.mean(), test_pred.mean(), test_proba.mean()"
   ]
  },
  {
   "cell_type": "code",
   "execution_count": null,
   "metadata": {},
   "outputs": [],
   "source": []
  },
  {
   "cell_type": "markdown",
   "metadata": {},
   "source": [
    "## Postprocessig "
   ]
  },
  {
   "cell_type": "code",
   "execution_count": 13,
   "metadata": {},
   "outputs": [
    {
     "name": "stdout",
     "output_type": "stream",
     "text": [
      "limon-rf-20250514-225942.csv\n"
     ]
    }
   ],
   "source": [
    "# passport_model_scores = pl.read_parquet(\n",
    "#     \"../data/external/passport_model_scores.parquet\"\n",
    "# )\n",
    "\n",
    "# uniswap_verified_wallets = (\n",
    "#     pl.read_csv(\"../data/external/uniswap_verified_wallets.csv\")\n",
    "#     .select(pl.col(\"address\"))\n",
    "#     .to_series()\n",
    "# )\n",
    "\n",
    "\n",
    "# add to test_df_original the probabilities as PRED\n",
    "sub = test_df_original.with_columns(pl.Series(\"PRED\", test_proba))\n",
    "# rename address to ADDRESS\n",
    "sub = sub.rename({\"address\": \"ADDRESS\"})\n",
    "# include timestamp in the filename\n",
    "import datetime\n",
    "now = datetime.datetime.now()\n",
    "timestamp = now.strftime(\"%Y%m%d-%H%M%S\")\n",
    "name = \"limon-rf-\" + timestamp + \".csv\"\n",
    "print(name)\n",
    "\n",
    "# sub = (sub.with_columns(\n",
    "#         pl.when(pl.col(\"flipside_is_contract\") == 1)\n",
    "#         .then(0)\n",
    "#         .otherwise(pl.col(\"PRED\"))\n",
    "#         .alias(\"PRED\"))\n",
    "#     .with_columns(\n",
    "#         pl.when(pl.col(\"flipside_flipside_label\").is_null())\n",
    "#         .then(pl.col(\"PRED\"))\n",
    "#         .otherwise(0)\n",
    "#         .alias(\"PRED\")\n",
    "#     )\n",
    "#     # .with_columns(\n",
    "#     #     pl.when(pl.col(\"zk_cluster_list_hit\"))\n",
    "#     #     .then(1)\n",
    "#     #     .otherwise(pl.col(\"PRED\"))\n",
    "#     #     .alias(\"PRED\")\n",
    "#     # )\n",
    "#     # .join(passport_model_scores, left_on=\"ADDRESS\", right_on=\"address\", how=\"left\")\n",
    "#     # .with_columns(\n",
    "#     #     pl.when(pl.col(\"score\") > 30).then(0).otherwise(pl.col(\"PRED\")).alias(\"PRED\")\n",
    "#     # )\n",
    "#     # .with_columns(\n",
    "#     #     pl.when(pl.col(\"score\").is_not_null())\n",
    "#     #     .then(pl.col(\"PRED\") / pl.col(\"score\"))\n",
    "#     #     .otherwise(pl.col(\"PRED\"))\n",
    "#     #     .alias(\"PRED\")\n",
    "#     # )\n",
    "#     .with_columns(\n",
    "#         pl.when(pl.col(\"ADDRESS\").is_in(uniswap_verified_wallets))\n",
    "#         .then(0)\n",
    "#         .otherwise(pl.col(\"PRED\"))\n",
    "#         .alias(\"PRED\")\n",
    "#    )\n",
    "#     .select(\n",
    "#         pl.col(\"ADDRESS\"),\n",
    "#         pl.col(\"PRED\"),\n",
    "#     )\n",
    "# )\n",
    "sub = sub.select(\n",
    "        pl.col(\"ADDRESS\"),\n",
    "        pl.col(\"PRED\"),\n",
    "    )\n",
    "# save the submission file in data/submissions as csv\n",
    "sub.write_csv(\"../data/submissions/\" + name)"
   ]
  },
  {
   "cell_type": "code",
   "execution_count": 14,
   "metadata": {},
   "outputs": [
    {
     "name": "stdout",
     "output_type": "stream",
     "text": [
      "Mean of submission: 0.9880\n"
     ]
    }
   ],
   "source": [
    "# mean of sub\n",
    "mean = sub[\"PRED\"].mean()\n",
    "print(f\"Mean of submission: {mean:.4f}\")"
   ]
  },
  {
   "cell_type": "code",
   "execution_count": null,
   "metadata": {},
   "outputs": [],
   "source": []
  }
 ],
 "metadata": {
  "kernelspec": {
   "display_name": ".venv",
   "language": "python",
   "name": "python3"
  },
  "language_info": {
   "codemirror_mode": {
    "name": "ipython",
    "version": 3
   },
   "file_extension": ".py",
   "mimetype": "text/x-python",
   "name": "python",
   "nbconvert_exporter": "python",
   "pygments_lexer": "ipython3",
   "version": "3.12.10"
  }
 },
 "nbformat": 4,
 "nbformat_minor": 2
}
