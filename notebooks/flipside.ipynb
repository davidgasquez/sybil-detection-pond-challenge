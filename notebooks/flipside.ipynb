{
 "cells": [
  {
   "cell_type": "markdown",
   "metadata": {},
   "source": [
    "## Flipside"
   ]
  },
  {
   "cell_type": "code",
   "execution_count": 1,
   "metadata": {},
   "outputs": [],
   "source": [
    "from flipside import Flipside\n",
    "import os\n",
    "\n",
    "API_KEY = os.getenv(\"FLIPSIDE_API_KEY\", \"\")\n",
    "API_URL = \"https://api-v2.flipsidecrypto.xyz\"\n",
    "\n",
    "flipside = Flipside(API_KEY, API_URL)"
   ]
  },
  {
   "cell_type": "code",
   "execution_count": 2,
   "metadata": {},
   "outputs": [
    {
     "name": "stdout",
     "output_type": "stream",
     "text": [
      "Processing 852475 addresses\n"
     ]
    }
   ],
   "source": [
    "import polars as pl\n",
    "\n",
    "addresses = pl.read_csv(\"../data/processed/addresses.csv\")\n",
    "\n",
    "print(f\"Processing {len(addresses)} addresses\")"
   ]
  },
  {
   "cell_type": "code",
   "execution_count": 3,
   "metadata": {},
   "outputs": [
    {
     "name": "stdout",
     "output_type": "stream",
     "text": [
      "Processing batch 1/9: 100000 addresses\n",
      "Added 19057 results from batch\n",
      "Processing batch 2/9: 100000 addresses\n",
      "Added 19146 results from batch\n",
      "Processing batch 3/9: 100000 addresses\n",
      "Added 18717 results from batch\n",
      "Processing batch 4/9: 100000 addresses\n",
      "Added 18890 results from batch\n",
      "Processing batch 5/9: 100000 addresses\n",
      "Added 19014 results from batch\n",
      "Processing batch 6/9: 100000 addresses\n",
      "Added 19024 results from batch\n",
      "Processing batch 7/9: 100000 addresses\n",
      "Added 19103 results from batch\n",
      "Processing batch 8/9: 100000 addresses\n",
      "Added 18998 results from batch\n",
      "Processing batch 9/9: 52475 addresses\n",
      "Added 9919 results from batch\n",
      "Total results collected: 161868\n"
     ]
    }
   ],
   "source": [
    "# Initialize an empty DataFrame to store all results\n",
    "all_results = pl.DataFrame()\n",
    "\n",
    "batch_size = 100000\n",
    "total_addresses = len(addresses)\n",
    "\n",
    "for i in range(0, total_addresses, batch_size):\n",
    "    # Get the current batch of addresses\n",
    "    end_idx = min(i + batch_size, total_addresses)\n",
    "    addresses_batch = addresses.slice(i, end_idx - i)[\"address\"].to_list()\n",
    "\n",
    "    # Format addresses for SQL query - each address needs to be in single quotes\n",
    "    formatted_addresses = [\n",
    "        \"'\" + addr + \"'\" for addr in addresses_batch if addr is not None\n",
    "    ]\n",
    "\n",
    "    # Join the formatted addresses with commas for SQL IN clause\n",
    "    addresses_sql_string = \", \".join(formatted_addresses)\n",
    "\n",
    "    print(\n",
    "        f\"Processing batch {i // batch_size + 1}/{(total_addresses + batch_size - 1) // batch_size}: {len(addresses_batch)} addresses\"\n",
    "    )\n",
    "\n",
    "    sql = f\"\"\"\n",
    "    select * from ethereum.core.dim_labels where address in ({addresses_sql_string})\n",
    "    \"\"\"\n",
    "\n",
    "    # This sends the SQL to Flipside and returns a QueryResultSet object\n",
    "    query_result_set = flipside.query(sql)\n",
    "\n",
    "    # Convert results to DataFrame and append to the main DataFrame\n",
    "    if query_result_set.records:\n",
    "        batch_results = pl.DataFrame(query_result_set.records)\n",
    "        all_results = (\n",
    "            pl.concat([all_results, batch_results])\n",
    "            if not all_results.is_empty()\n",
    "            else batch_results\n",
    "        )\n",
    "        print(f\"Added {len(batch_results)} results from batch\")\n",
    "    else:\n",
    "        print(\"No results found in this batch\")\n",
    "\n",
    "print(f\"Total results collected: {len(all_results)}\")"
   ]
  },
  {
   "cell_type": "code",
   "execution_count": 6,
   "metadata": {},
   "outputs": [],
   "source": [
    "all_results.select(\n",
    "    pl.col(\"address\").alias(\"address\"),\n",
    "    pl.col(\"address_name\").alias(\"flipside_address_name\"),\n",
    "    pl.col(\"label_type\").alias(\"flipside_label_type\"),\n",
    "    pl.col(\"label\").alias(\"flipside_label\"),\n",
    ").write_parquet(\"../data/external/flipside_address_labels.parquet\", compression=\"zstd\")"
   ]
  },
  {
   "cell_type": "code",
   "execution_count": 7,
   "metadata": {},
   "outputs": [
    {
     "name": "stdout",
     "output_type": "stream",
     "text": [
      "Processing batch 1/9: 100000 addresses\n",
      "Added 14099 results from batch\n",
      "Processing batch 2/9: 100000 addresses\n",
      "Added 14065 results from batch\n",
      "Processing batch 3/9: 100000 addresses\n",
      "Added 13914 results from batch\n",
      "Processing batch 4/9: 100000 addresses\n",
      "Added 14020 results from batch\n",
      "Processing batch 5/9: 100000 addresses\n",
      "Added 13897 results from batch\n",
      "Processing batch 6/9: 100000 addresses\n",
      "Added 14071 results from batch\n",
      "Processing batch 7/9: 100000 addresses\n",
      "Added 14049 results from batch\n",
      "Processing batch 8/9: 100000 addresses\n",
      "Added 14065 results from batch\n",
      "Processing batch 9/9: 52475 addresses\n",
      "Added 7414 results from batch\n",
      "Total results collected: 119594\n"
     ]
    }
   ],
   "source": [
    "# Initialize an empty DataFrame to store all results\n",
    "contracts_results = pl.DataFrame()\n",
    "\n",
    "batch_size = 100000\n",
    "total_addresses = len(addresses)\n",
    "\n",
    "for i in range(0, total_addresses, batch_size):\n",
    "    # Get the current batch of addresses\n",
    "    end_idx = min(i + batch_size, total_addresses)\n",
    "    addresses_batch = addresses.slice(i, end_idx - i)[\"address\"].to_list()\n",
    "\n",
    "    # Format addresses for SQL query - each address needs to be in single quotes\n",
    "    formatted_addresses = [\n",
    "        \"'\" + addr + \"'\" for addr in addresses_batch if addr is not None\n",
    "    ]\n",
    "\n",
    "    # Join the formatted addresses with commas for SQL IN clause\n",
    "    addresses_sql_string = \", \".join(formatted_addresses)\n",
    "\n",
    "    print(\n",
    "        f\"Processing batch {i // batch_size + 1}/{(total_addresses + batch_size - 1) // batch_size}: {len(addresses_batch)} addresses\"\n",
    "    )\n",
    "\n",
    "    sql = f\"\"\"\n",
    "    select address, created_block_number, creator_address from ethereum.core.dim_contracts where address in ({addresses_sql_string})\n",
    "    \"\"\"\n",
    "\n",
    "    # This sends the SQL to Flipside and returns a QueryResultSet object\n",
    "    query_result_set = flipside.query(sql)\n",
    "\n",
    "    # Convert results to DataFrame and append to the main DataFrame\n",
    "    if query_result_set.records:\n",
    "        batch_results = pl.DataFrame(query_result_set.records)\n",
    "        contracts_results = (\n",
    "            pl.concat([contracts_results, batch_results])\n",
    "            if not contracts_results.is_empty()\n",
    "            else batch_results\n",
    "        )\n",
    "        print(f\"Added {len(batch_results)} results from batch\")\n",
    "    else:\n",
    "        print(\"No results found in this batch\")\n",
    "\n",
    "print(f\"Total results collected: {len(contracts_results)}\")"
   ]
  },
  {
   "cell_type": "code",
   "execution_count": 8,
   "metadata": {},
   "outputs": [],
   "source": [
    "contracts_results.select(\n",
    "    pl.col(\"address\"),\n",
    "    pl.col(\"created_block_number\").alias(\"created_block_number\"),\n",
    "    pl.col(\"creator_address\").alias(\"creator_address\"),\n",
    ").write_parquet(\"../data/external/flipside_contracts_data.parquet\", compression=\"zstd\")\n"
   ]
  }
 ],
 "metadata": {
  "kernelspec": {
   "display_name": ".venv",
   "language": "python",
   "name": "python3"
  },
  "language_info": {
   "codemirror_mode": {
    "name": "ipython",
    "version": 3
   },
   "file_extension": ".py",
   "mimetype": "text/x-python",
   "name": "python",
   "nbconvert_exporter": "python",
   "pygments_lexer": "ipython3",
   "version": "3.12.8"
  }
 },
 "nbformat": 4,
 "nbformat_minor": 2
}
