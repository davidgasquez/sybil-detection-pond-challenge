{
 "cells": [
  {
   "cell_type": "markdown",
   "metadata": {},
   "source": [
    "## Flipside"
   ]
  },
  {
   "cell_type": "code",
   "execution_count": 1,
   "metadata": {},
   "outputs": [],
   "source": [
    "from flipside import Flipside\n",
    "import os\n",
    "\n",
    "API_KEY = os.getenv(\"FLIPSIDE_API_KEY\", \"\")\n",
    "API_URL = \"https://api-v2.flipsidecrypto.xyz\"\n",
    "\n",
    "flipside = Flipside(API_KEY, API_URL)"
   ]
  },
  {
   "cell_type": "code",
   "execution_count": 2,
   "metadata": {},
   "outputs": [
    {
     "name": "stdout",
     "output_type": "stream",
     "text": [
      "Processing 852475 addresses\n"
     ]
    }
   ],
   "source": [
    "import polars as pl\n",
    "\n",
    "addresses = pl.read_csv(\"../data/processed/addresses.csv\")\n",
    "\n",
    "print(f\"Processing {len(addresses)} addresses\")"
   ]
  },
  {
   "cell_type": "code",
   "execution_count": 30,
   "metadata": {},
   "outputs": [
    {
     "name": "stdout",
     "output_type": "stream",
     "text": [
      "Processing batch 1/8: 100000 addresses\n",
      "Added 18121 results from batch\n",
      "Processing batch 2/8: 100000 addresses\n",
      "Added 17975 results from batch\n",
      "Processing batch 3/8: 100000 addresses\n",
      "Added 18019 results from batch\n",
      "Processing batch 4/8: 100000 addresses\n",
      "Added 18062 results from batch\n",
      "Processing batch 5/8: 100000 addresses\n",
      "Added 18111 results from batch\n",
      "Processing batch 6/8: 100000 addresses\n",
      "Added 18191 results from batch\n",
      "Processing batch 7/8: 100000 addresses\n",
      "Added 18017 results from batch\n",
      "Processing batch 8/8: 272 addresses\n",
      "Added 55 results from batch\n",
      "Total results collected: 126551\n"
     ]
    }
   ],
   "source": [
    "# Initialize an empty DataFrame to store all results\n",
    "all_results = pl.DataFrame()\n",
    "\n",
    "batch_size = 100000\n",
    "total_addresses = len(addresses)\n",
    "\n",
    "for i in range(0, total_addresses, batch_size):\n",
    "    # Get the current batch of addresses\n",
    "    end_idx = min(i + batch_size, total_addresses)\n",
    "    addresses_batch = addresses.slice(i, end_idx - i)[\"address\"].to_list()\n",
    "\n",
    "    # Format addresses for SQL query - each address needs to be in single quotes\n",
    "    formatted_addresses = [\n",
    "        \"'\" + addr + \"'\" for addr in addresses_batch if addr is not None\n",
    "    ]\n",
    "\n",
    "    # Join the formatted addresses with commas for SQL IN clause\n",
    "    addresses_sql_string = \", \".join(formatted_addresses)\n",
    "\n",
    "    print(\n",
    "        f\"Processing batch {i // batch_size + 1}/{(total_addresses + batch_size - 1) // batch_size}: {len(addresses_batch)} addresses\"\n",
    "    )\n",
    "\n",
    "    sql = f\"\"\"\n",
    "    select * from ethereum.core.dim_labels where address in ({addresses_sql_string})\n",
    "    \"\"\"\n",
    "\n",
    "    # This sends the SQL to Flipside and returns a QueryResultSet object\n",
    "    query_result_set = flipside.query(sql)\n",
    "\n",
    "    # Convert results to DataFrame and append to the main DataFrame\n",
    "    if query_result_set.records:\n",
    "        batch_results = pl.DataFrame(query_result_set.records)\n",
    "        all_results = (\n",
    "            pl.concat([all_results, batch_results])\n",
    "            if not all_results.is_empty()\n",
    "            else batch_results\n",
    "        )\n",
    "        print(f\"Added {len(batch_results)} results from batch\")\n",
    "    else:\n",
    "        print(\"No results found in this batch\")\n",
    "\n",
    "print(f\"Total results collected: {len(all_results)}\")"
   ]
  },
  {
   "cell_type": "code",
   "execution_count": null,
   "metadata": {},
   "outputs": [],
   "source": [
    "all_results.select(\n",
    "    pl.col(\"address\").alias(\"address\"),\n",
    "    pl.col(\"address_name\").alias(\"flipside_address_name\"),\n",
    "    pl.col(\"label_type\").alias(\"flipside_label_type\"),\n",
    "    pl.col(\"label\").alias(\"flipside_label\"),\n",
    ").write_parquet(\"../data/external/flipside_address_labels.parquet\", compression=\"zstd\")"
   ]
  },
  {
   "cell_type": "code",
   "execution_count": 34,
   "metadata": {},
   "outputs": [
    {
     "name": "stdout",
     "output_type": "stream",
     "text": [
      "Processing batch 1/8: 100000 addresses\n",
      "Added 15960 results from batch\n",
      "Processing batch 2/8: 100000 addresses\n",
      "Added 15882 results from batch\n",
      "Processing batch 3/8: 100000 addresses\n",
      "Added 15727 results from batch\n",
      "Processing batch 4/8: 100000 addresses\n",
      "Added 15882 results from batch\n",
      "Processing batch 5/8: 100000 addresses\n",
      "Added 15902 results from batch\n",
      "Processing batch 6/8: 100000 addresses\n",
      "Added 16061 results from batch\n",
      "Processing batch 7/8: 100000 addresses\n",
      "Added 15840 results from batch\n",
      "Processing batch 8/8: 272 addresses\n",
      "Added 52 results from batch\n",
      "Total results collected: 111306\n"
     ]
    }
   ],
   "source": [
    "# Initialize an empty DataFrame to store all results\n",
    "contracts_results = pl.DataFrame()\n",
    "\n",
    "batch_size = 100000\n",
    "total_addresses = len(addresses)\n",
    "\n",
    "for i in range(0, total_addresses, batch_size):\n",
    "    # Get the current batch of addresses\n",
    "    end_idx = min(i + batch_size, total_addresses)\n",
    "    addresses_batch = addresses.slice(i, end_idx - i)[\"address\"].to_list()\n",
    "\n",
    "    # Format addresses for SQL query - each address needs to be in single quotes\n",
    "    formatted_addresses = [\n",
    "        \"'\" + addr + \"'\" for addr in addresses_batch if addr is not None\n",
    "    ]\n",
    "\n",
    "    # Join the formatted addresses with commas for SQL IN clause\n",
    "    addresses_sql_string = \", \".join(formatted_addresses)\n",
    "\n",
    "    print(\n",
    "        f\"Processing batch {i // batch_size + 1}/{(total_addresses + batch_size - 1) // batch_size}: {len(addresses_batch)} addresses\"\n",
    "    )\n",
    "\n",
    "    sql = f\"\"\"\n",
    "    select address, created_block_number, creator_address from ethereum.core.dim_contracts where address in ({addresses_sql_string})\n",
    "    \"\"\"\n",
    "\n",
    "    # This sends the SQL to Flipside and returns a QueryResultSet object\n",
    "    query_result_set = flipside.query(sql)\n",
    "\n",
    "    # Convert results to DataFrame and append to the main DataFrame\n",
    "    if query_result_set.records:\n",
    "        batch_results = pl.DataFrame(query_result_set.records)\n",
    "        contracts_results = (\n",
    "            pl.concat([contracts_results, batch_results])\n",
    "            if not contracts_results.is_empty()\n",
    "            else batch_results\n",
    "        )\n",
    "        print(f\"Added {len(batch_results)} results from batch\")\n",
    "    else:\n",
    "        print(\"No results found in this batch\")\n",
    "\n",
    "print(f\"Total results collected: {len(contracts_results)}\")"
   ]
  },
  {
   "cell_type": "code",
   "execution_count": null,
   "metadata": {},
   "outputs": [],
   "source": [
    "contracts_results.select(\n",
    "    pl.col(\"address\"),\n",
    "    pl.col(\"created_block_number\").alias(\"created_block_number\"),\n",
    "    pl.col(\"creator_address\").alias(\"creator_address\"),\n",
    ").write_parquet(\"../data/external/flipside_contracts_data.parquet\", compression=\"zstd\")\n"
   ]
  }
 ],
 "metadata": {
  "kernelspec": {
   "display_name": ".venv",
   "language": "python",
   "name": "python3"
  },
  "language_info": {
   "codemirror_mode": {
    "name": "ipython",
    "version": 3
   },
   "file_extension": ".py",
   "mimetype": "text/x-python",
   "name": "python",
   "nbconvert_exporter": "python",
   "pygments_lexer": "ipython3",
   "version": "3.12.8"
  }
 },
 "nbformat": 4,
 "nbformat_minor": 2
}
