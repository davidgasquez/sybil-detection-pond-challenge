{
 "cells": [
  {
   "cell_type": "code",
   "execution_count": 13,
   "metadata": {},
   "outputs": [],
   "source": [
    "%reload_ext autoreload\n",
    "%autoreload 2\n",
    "\n",
    "import warnings\n",
    "\n",
    "import polars as pl\n",
    "\n",
    "warnings.filterwarnings(\"ignore\")\n",
    "warnings.filterwarnings(\"ignore\", category=FutureWarning)\n",
    "\n",
    "_ = pl.Config.set_tbl_rows(10)\n",
    "_ = pl.Config.set_tbl_cols(20)\n",
    "_ = pl.Config.set_fmt_str_lengths(200)"
   ]
  },
  {
   "cell_type": "code",
   "execution_count": 14,
   "metadata": {},
   "outputs": [],
   "source": [
    "from sdpc.data import (\n",
    "    joined_train_df,\n",
    "    test_data_df,\n",
    ")\n",
    "\n",
    "train_df: pl.DataFrame = joined_train_df()\n",
    "test_df: pl.DataFrame = test_data_df()"
   ]
  },
  {
   "cell_type": "code",
   "execution_count": 15,
   "metadata": {},
   "outputs": [],
   "source": [
    "# Load the provisional sybil list from external data\n",
    "sybil_list_df = pl.read_parquet(\"../data/external/lz_provisional_sybil_list.parquet\")"
   ]
  },
  {
   "cell_type": "code",
   "execution_count": 16,
   "metadata": {},
   "outputs": [],
   "source": [
    "train_df = train_df.join(sybil_list_df, on=\"address\", how=\"inner\")\n",
    "test_df = test_df.join(sybil_list_df, on=\"address\", how=\"inner\")"
   ]
  },
  {
   "cell_type": "code",
   "execution_count": 17,
   "metadata": {},
   "outputs": [
    {
     "data": {
      "text/html": [
       "<div><style>\n",
       ".dataframe > thead > tr,\n",
       ".dataframe > tbody > tr {\n",
       "  text-align: right;\n",
       "  white-space: pre-wrap;\n",
       "}\n",
       "</style>\n",
       "<small>shape: (1_137, 4)</small><table border=\"1\" class=\"dataframe\"><thead><tr><th>address</th><th>label</th><th>source</th><th>cluster</th></tr><tr><td>str</td><td>decimal[1,0]</td><td>str</td><td>str</td></tr></thead><tbody><tr><td>&quot;0x8531d29fcb92701b2e0244b1d90818da16ab37b4&quot;</td><td>0</td><td>&quot;https://commonwealth.im/layerzero/discussion/EVM&quot;</td><td>&quot;Cluster (1)&quot;</td></tr><tr><td>&quot;0x0430c3b5c66ac702617181853ce6483afcb4bf50&quot;</td><td>0</td><td>&quot;https://commonwealth.im/layerzero/discussion/0x00007C89DD7243c70749D2496eb4dD0CC1111111&quot;</td><td>&quot;cluster_1&quot;</td></tr><tr><td>&quot;0x0535b968eeafd8fd89939478eac647a63f80db22&quot;</td><td>1</td><td>&quot;https://commonwealth.im/layerzero/discussion/0x00007C89DD7243c70749D2496eb4dD0CC1111111&quot;</td><td>&quot;cluster_1&quot;</td></tr><tr><td>&quot;0x4cbe51c2314083aaa72fe7f310fa3d772c64cef1&quot;</td><td>1</td><td>&quot;https://commonwealth.im/layerzero/discussion/0x00007C89DD7243c70749D2496eb4dD0CC1111111&quot;</td><td>&quot;cluster_1&quot;</td></tr><tr><td>&quot;0x4cbff2fef0e84403e9d85de585fe8bbf97907da1&quot;</td><td>1</td><td>&quot;https://commonwealth.im/layerzero/discussion/0x00007C89DD7243c70749D2496eb4dD0CC1111111&quot;</td><td>&quot;cluster_1&quot;</td></tr><tr><td>&hellip;</td><td>&hellip;</td><td>&hellip;</td><td>&hellip;</td></tr><tr><td>&quot;0x19530fc28cf01ff443c26ddcedb444425edd389d&quot;</td><td>1</td><td>&quot;nansen&quot;</td><td>&quot;177577&quot;</td></tr><tr><td>&quot;0x5aea801cb60c6e968d2beb2a6b87d068e889bf3d&quot;</td><td>0</td><td>&quot;nansen&quot;</td><td>&quot;180650&quot;</td></tr><tr><td>&quot;0x3fd249d41d3f1444452329381aa07701cb754fcf&quot;</td><td>1</td><td>&quot;nansen&quot;</td><td>&quot;183192&quot;</td></tr><tr><td>&quot;0x5878d75bf684e489ee6e7ea81213c68b56966154&quot;</td><td>1</td><td>&quot;nansen&quot;</td><td>&quot;183192&quot;</td></tr><tr><td>&quot;0xd2917b7de60f02274e429f2ab27877876d37abff&quot;</td><td>0</td><td>&quot;nansen&quot;</td><td>&quot;189169&quot;</td></tr></tbody></table></div>"
      ],
      "text/plain": [
       "shape: (1_137, 4)\n",
       "┌──────────────────────────────────┬──────────────┬──────────────────────────────────┬─────────────┐\n",
       "│ address                          ┆ label        ┆ source                           ┆ cluster     │\n",
       "│ ---                              ┆ ---          ┆ ---                              ┆ ---         │\n",
       "│ str                              ┆ decimal[1,0] ┆ str                              ┆ str         │\n",
       "╞══════════════════════════════════╪══════════════╪══════════════════════════════════╪═════════════╡\n",
       "│ 0x8531d29fcb92701b2e0244b1d90818 ┆ 0            ┆ https://commonwealth.im/layerzer ┆ Cluster (1) │\n",
       "│ da16ab37b4                       ┆              ┆ o/discussion/EVM                 ┆             │\n",
       "│ 0x0430c3b5c66ac702617181853ce648 ┆ 0            ┆ https://commonwealth.im/layerzer ┆ cluster_1   │\n",
       "│ 3afcb4bf50                       ┆              ┆ o/discussion/0x00007C89DD7243c70 ┆             │\n",
       "│                                  ┆              ┆ 749D2496eb4dD0CC1111111          ┆             │\n",
       "│ 0x0535b968eeafd8fd89939478eac647 ┆ 1            ┆ https://commonwealth.im/layerzer ┆ cluster_1   │\n",
       "│ a63f80db22                       ┆              ┆ o/discussion/0x00007C89DD7243c70 ┆             │\n",
       "│                                  ┆              ┆ 749D2496eb4dD0CC1111111          ┆             │\n",
       "│ 0x4cbe51c2314083aaa72fe7f310fa3d ┆ 1            ┆ https://commonwealth.im/layerzer ┆ cluster_1   │\n",
       "│ 772c64cef1                       ┆              ┆ o/discussion/0x00007C89DD7243c70 ┆             │\n",
       "│                                  ┆              ┆ 749D2496eb4dD0CC1111111          ┆             │\n",
       "│ 0x4cbff2fef0e84403e9d85de585fe8b ┆ 1            ┆ https://commonwealth.im/layerzer ┆ cluster_1   │\n",
       "│ bf97907da1                       ┆              ┆ o/discussion/0x00007C89DD7243c70 ┆             │\n",
       "│                                  ┆              ┆ 749D2496eb4dD0CC1111111          ┆             │\n",
       "│ …                                ┆ …            ┆ …                                ┆ …           │\n",
       "│ 0x19530fc28cf01ff443c26ddcedb444 ┆ 1            ┆ nansen                           ┆ 177577      │\n",
       "│ 425edd389d                       ┆              ┆                                  ┆             │\n",
       "│ 0x5aea801cb60c6e968d2beb2a6b87d0 ┆ 0            ┆ nansen                           ┆ 180650      │\n",
       "│ 68e889bf3d                       ┆              ┆                                  ┆             │\n",
       "│ 0x3fd249d41d3f1444452329381aa077 ┆ 1            ┆ nansen                           ┆ 183192      │\n",
       "│ 01cb754fcf                       ┆              ┆                                  ┆             │\n",
       "│ 0x5878d75bf684e489ee6e7ea81213c6 ┆ 1            ┆ nansen                           ┆ 183192      │\n",
       "│ 8b56966154                       ┆              ┆                                  ┆             │\n",
       "│ 0xd2917b7de60f02274e429f2ab27877 ┆ 0            ┆ nansen                           ┆ 189169      │\n",
       "│ 876d37abff                       ┆              ┆                                  ┆             │\n",
       "└──────────────────────────────────┴──────────────┴──────────────────────────────────┴─────────────┘"
      ]
     },
     "execution_count": 17,
     "metadata": {},
     "output_type": "execute_result"
    }
   ],
   "source": [
    "train_df"
   ]
  },
  {
   "cell_type": "code",
   "execution_count": 9,
   "metadata": {},
   "outputs": [
    {
     "data": {
      "text/html": [
       "<div><style>\n",
       ".dataframe > thead > tr,\n",
       ".dataframe > tbody > tr {\n",
       "  text-align: right;\n",
       "  white-space: pre-wrap;\n",
       "}\n",
       "</style>\n",
       "<small>shape: (327, 3)</small><table border=\"1\" class=\"dataframe\"><thead><tr><th>cluster</th><th>label</th><th>address</th></tr><tr><td>str</td><td>decimal[1,0]</td><td>u32</td></tr></thead><tbody><tr><td>&quot;chaos&quot;</td><td>1</td><td>148</td></tr><tr><td>&quot;chaos&quot;</td><td>0</td><td>92</td></tr><tr><td>&quot;Cluster_96&quot;</td><td>1</td><td>65</td></tr><tr><td>&quot;cluster_1&quot;</td><td>1</td><td>55</td></tr><tr><td>&quot;Cluster 1 &quot;</td><td>1</td><td>48</td></tr><tr><td>&hellip;</td><td>&hellip;</td><td>&hellip;</td></tr><tr><td>&quot;Cluster 645&quot;</td><td>1</td><td>1</td></tr><tr><td>&quot;Cluster 549&quot;</td><td>1</td><td>1</td></tr><tr><td>&quot;Cluster_1085&quot;</td><td>0</td><td>1</td></tr><tr><td>&quot;Cluster 649&quot;</td><td>1</td><td>1</td></tr><tr><td>&quot;cluster_393&quot;</td><td>0</td><td>1</td></tr></tbody></table></div>"
      ],
      "text/plain": [
       "shape: (327, 3)\n",
       "┌──────────────┬──────────────┬─────────┐\n",
       "│ cluster      ┆ label        ┆ address │\n",
       "│ ---          ┆ ---          ┆ ---     │\n",
       "│ str          ┆ decimal[1,0] ┆ u32     │\n",
       "╞══════════════╪══════════════╪═════════╡\n",
       "│ chaos        ┆ 1            ┆ 148     │\n",
       "│ chaos        ┆ 0            ┆ 92      │\n",
       "│ Cluster_96   ┆ 1            ┆ 65      │\n",
       "│ cluster_1    ┆ 1            ┆ 55      │\n",
       "│ Cluster 1    ┆ 1            ┆ 48      │\n",
       "│ …            ┆ …            ┆ …       │\n",
       "│ Cluster 645  ┆ 1            ┆ 1       │\n",
       "│ Cluster 549  ┆ 1            ┆ 1       │\n",
       "│ Cluster_1085 ┆ 0            ┆ 1       │\n",
       "│ Cluster 649  ┆ 1            ┆ 1       │\n",
       "│ cluster_393  ┆ 0            ┆ 1       │\n",
       "└──────────────┴──────────────┴─────────┘"
      ]
     },
     "execution_count": 9,
     "metadata": {},
     "output_type": "execute_result"
    }
   ],
   "source": [
    "train_df.group_by([\"cluster\", \"label\"]).agg(pl.col(\"address\").count()).sort(\n",
    "    \"address\", descending=True\n",
    ")"
   ]
  }
 ],
 "metadata": {
  "kernelspec": {
   "display_name": ".venv",
   "language": "python",
   "name": "python3"
  },
  "language_info": {
   "codemirror_mode": {
    "name": "ipython",
    "version": 3
   },
   "file_extension": ".py",
   "mimetype": "text/x-python",
   "name": "python",
   "nbconvert_exporter": "python",
   "pygments_lexer": "ipython3",
   "version": "3.12.8"
  }
 },
 "nbformat": 4,
 "nbformat_minor": 2
}
